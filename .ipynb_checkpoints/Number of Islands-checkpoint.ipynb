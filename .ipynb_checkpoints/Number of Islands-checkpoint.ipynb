{
 "cells": [
  {
   "cell_type": "markdown",
   "metadata": {},
   "source": [
    "<!-- Given a 2d grid map of '1's (land) and '0's (water), count the number of islands. An island is surrounded by water and is formed by connecting adjacent lands horizontally or vertically. You may assume all four edges of the grid are all surrounded by water.\n",
    "\n",
    " \n",
    "\n",
    "Example 1:\n",
    "\n",
    "Input: grid = [\n",
    "  [\"1\",\"1\",\"1\",\"1\",\"0\"],\n",
    "  [\"1\",\"1\",\"0\",\"1\",\"0\"],\n",
    "  [\"1\",\"1\",\"0\",\"0\",\"0\"],\n",
    "  [\"0\",\"0\",\"0\",\"0\",\"0\"]\n",
    "]\n",
    "Output: 1\n",
    "Example 2:\n",
    "\n",
    "Input: grid = [\n",
    "  [\"1\",\"1\",\"0\",\"0\",\"0\"],\n",
    "  [\"1\",\"1\",\"0\",\"0\",\"0\"],\n",
    "  [\"0\",\"0\",\"1\",\"0\",\"0\"],\n",
    "  [\"0\",\"0\",\"0\",\"1\",\"1\"]\n",
    "]\n",
    "Output: 3 -->"
   ]
  },
  {
   "cell_type": "code",
   "execution_count": 1,
   "metadata": {},
   "outputs": [
    {
     "name": "stdout",
     "output_type": "stream",
     "text": [
      "1\n"
     ]
    }
   ],
   "source": [
    "class Solution:\n",
    "    \n",
    "    def __init__(self, grid):\n",
    "        self.grid = grid\n",
    "\n",
    "    # Check if the (i,j) pair is valid\n",
    "    def is_valid(self, i, j):\n",
    "        return i >= 0 and i < self.grid_length[0] and j >= 0 and j < self.grid_length[1]\n",
    "    \n",
    "    # DFS Search for finding the related nodes\n",
    "    def add_neighbours(self, i, j):\n",
    "        if self.is_valid(i, j) and int(self.grid[i][j]) == 1:\n",
    "            self.grid[i][j] = \"0\"\n",
    "            self.add_neighbours(i-1, j)\n",
    "            self.add_neighbours(i, j-1)\n",
    "            self.add_neighbours(i+1, j)\n",
    "            self.add_neighbours(i, j+1)\n",
    "        else:\n",
    "            return\n",
    "    \n",
    "    # initial method for calculating the grid\n",
    "    def numIslands(self):\n",
    "        if len(self.grid) == 0:\n",
    "           return 0\n",
    "        self.grid_length = (len(self.grid), len(self.grid[0]))\n",
    "        count = 0\n",
    "    \n",
    "        for i in range(self.grid_length[0]):\n",
    "            for j in range(self.grid_length[1]):\n",
    "                if int(self.grid[i][j]) == 1:\n",
    "                    count = count + 1\n",
    "                    self.add_neighbours(i, j)\n",
    "        return count\n",
    "    \n",
    "def main():\n",
    "    grid = [\n",
    "      [\"1\",\"1\",\"1\",\"1\",\"0\"],\n",
    "      [\"1\",\"1\",\"0\",\"1\",\"0\"],\n",
    "      [\"1\",\"1\",\"0\",\"0\",\"0\"],\n",
    "      [\"0\",\"0\",\"0\",\"0\",\"0\"]\n",
    "    ]\n",
    "    \n",
    "    solution = Solution(grid)\n",
    "    \n",
    "    print(solution.numIslands())\n",
    "    \n",
    "    \n",
    "    \n",
    "if __name__=='__main__':\n",
    "    main()"
   ]
  }
 ],
 "metadata": {
  "kernelspec": {
   "display_name": "Python 3",
   "language": "python",
   "name": "python3"
  },
  "language_info": {
   "codemirror_mode": {
    "name": "ipython",
    "version": 3
   },
   "file_extension": ".py",
   "mimetype": "text/x-python",
   "name": "python",
   "nbconvert_exporter": "python",
   "pygments_lexer": "ipython3",
   "version": "3.8.3"
  }
 },
 "nbformat": 4,
 "nbformat_minor": 4
}
