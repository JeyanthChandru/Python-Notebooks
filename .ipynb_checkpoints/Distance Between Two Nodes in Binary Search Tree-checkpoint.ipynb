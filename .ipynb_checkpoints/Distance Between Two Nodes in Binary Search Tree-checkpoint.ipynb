{
 "cells": [
  {
   "cell_type": "markdown",
   "metadata": {},
   "source": [
    "<!-- Given a list of unique integers nums, construct a BST from it (you need to insert nodes one-by-one with the given order to get the BST) and find the distance between two nodes node1 and node2. Distance is the number of edges between two nodes. If any of the given nodes does not appear in the BST, return -1.\n",
    "\n",
    "Example 1:\n",
    "\n",
    "Input: nums = [2, 1, 3], node1 = 1, node2 = 3\n",
    "Output: 2\n",
    "Explanation:\n",
    "     2\n",
    "   /   \\\n",
    "  1     3 -->"
   ]
  },
  {
   "cell_type": "code",
   "execution_count": 1,
   "metadata": {},
   "outputs": [],
   "source": [
    "# Base Tree Structure\n",
    "class TreeNode:\n",
    "\n",
    "    def __init__(self, val, left = None, right = None):\n",
    "        self.val = val\n",
    "        self.left = left\n",
    "        self.right = right\n",
    "    \n",
    "    # Print Helper Function to print out the content of Tree Node\n",
    "    def __str__(self):\n",
    "        return \"{ TreeNode : { value : \" + str(self.val) + \", left : \" + str(self.left) + \", right : \" + str(self.right) + \" } }\""
   ]
  },
  {
   "cell_type": "code",
   "execution_count": 2,
   "metadata": {},
   "outputs": [],
   "source": [
    "# Binary Search Tree class\n",
    "class BinarySearchTree:\n",
    "    \n",
    "    # Helper to insert the nodes into the tree\n",
    "    def insert(self, root, val):\n",
    "        \n",
    "        if root == None:\n",
    "            root = TreeNode(val)\n",
    "        \n",
    "        elif root.val < val:\n",
    "            root.right = self.insert(root.right, val)\n",
    "        \n",
    "        elif root.val > val:\n",
    "            root.left = self.insert(root.left, val)\n",
    "            \n",
    "        return root\n",
    "    \n",
    "    # Helper to find the element in the tree\n",
    "    def findElementInTree(self, root, val):\n",
    "        if root == None:\n",
    "            return -1\n",
    "        \n",
    "        elif root.val == val:\n",
    "            return 1\n",
    "        \n",
    "        return self.findElementInTree((root.left, root.right)[root.val < val], val)\n",
    "    \n",
    "    # Helper to find the distance of a node from the root node\n",
    "    def distanceFromRootNode(self, root, val):\n",
    "        if root.val == val:\n",
    "            return 0\n",
    "        \n",
    "        return 1 + self.distanceFromRootNode((root.left, root.right)[root.val < val], val)\n",
    "    \n",
    "    # Find the Distance Between the two nodes\n",
    "    def distanceBetweenTwoNodes(self, root, firstValue, secondValue):\n",
    "        if root == None:\n",
    "            return 0\n",
    "        \n",
    "        if root.val < firstValue and root.val < secondValue:\n",
    "            return self.distanceBetweenTwoNodes(root.right, firstValue, secondValue)\n",
    "        \n",
    "        elif root.val > firstValue and root.val > secondValue:\n",
    "            return self.distanceBetweenTwoNodes(root.left, firstValue, secondValue)\n",
    "        \n",
    "        return self.distanceFromRootNode(root, firstValue) + self.distanceFromRootNode(root, secondValue)\n",
    "            "
   ]
  },
  {
   "cell_type": "code",
   "execution_count": 3,
   "metadata": {},
   "outputs": [
    {
     "name": "stdout",
     "output_type": "stream",
     "text": [
      "4\n"
     ]
    }
   ],
   "source": [
    "def main():\n",
    "    \n",
    "    bst = BinarySearchTree()\n",
    "    \n",
    "    nums = [2, 1, 3, 4, 6, 7, 8, 28, 43, 23, 54, 22, 12]\n",
    "    \n",
    "    node1 = 8\n",
    "    node2 = 3\n",
    "    \n",
    "#     if node1 == node2:\n",
    "#         print(0)\n",
    "#     elif node1 > node2:\n",
    "#         node1, node2 = node2, node1\n",
    "    \n",
    "    root = None\n",
    "    \n",
    "    for num in nums:\n",
    "        root = bst.insert(root, num)\n",
    "    \n",
    "    if bst.findElementInTree(root, node1) == -1 or bst.findElementInTree(root, node2) == -1:\n",
    "        print(\"Node not found\")    \n",
    "    else:\n",
    "        print(bst.distanceBetweenTwoNodes(root, node1, node2))\n",
    "\n",
    "if __name__=='__main__':\n",
    "    main()"
   ]
  }
 ],
 "metadata": {
  "kernelspec": {
   "display_name": "Python 3",
   "language": "python",
   "name": "python3"
  },
  "language_info": {
   "codemirror_mode": {
    "name": "ipython",
    "version": 3
   },
   "file_extension": ".py",
   "mimetype": "text/x-python",
   "name": "python",
   "nbconvert_exporter": "python",
   "pygments_lexer": "ipython3",
   "version": "3.8.3"
  }
 },
 "nbformat": 4,
 "nbformat_minor": 4
}
