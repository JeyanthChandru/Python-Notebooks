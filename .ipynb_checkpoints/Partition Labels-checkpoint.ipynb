{
 "cells": [
  {
   "cell_type": "markdown",
   "metadata": {},
   "source": [
    "<!-- Example 1:\n",
    "\n",
    "Input: S = \"ababcbacadefegdehijhklij\"\n",
    "Output: [9,7,8]\n",
    "Explanation:\n",
    "The partition is \"ababcbaca\", \"defegde\", \"hijhklij\".\n",
    "This is a partition so that each letter appears in at most one part.\n",
    "A partition like \"ababcbacadefegde\", \"hijhklij\" is incorrect, because it splits S into less parts. -->"
   ]
  },
  {
   "cell_type": "code",
   "execution_count": 1,
   "metadata": {},
   "outputs": [
    {
     "name": "stdout",
     "output_type": "stream",
     "text": [
      "[9, 7, 8]\n"
     ]
    }
   ],
   "source": [
    "class Solution:\n",
    "    \n",
    "    \n",
    "    def __init__(self, S):\n",
    "        self.S = S\n",
    "        \n",
    "        \n",
    "    def partitionLabels(self):\n",
    "        \n",
    "        list_val = []\n",
    "        \n",
    "        new_dict = {h:self.S.rindex(h) for h in set(self.S)}\n",
    "                        \n",
    "#         set_items = set(self.S)\n",
    "#         new_dict = {}\n",
    "\n",
    "#         for h in set_items:\n",
    "#             new_dict[h] = self.S.rindex(h)\n",
    "            \n",
    "        count = 0\n",
    "        current_maximum = 0\n",
    "\n",
    "        for i, j in enumerate(self.S):\n",
    "            count = count + 1\n",
    "            current_maximum = max(current_maximum, new_dict[j])\n",
    "            \n",
    "            if current_maximum == i:\n",
    "                list_val.append(count)\n",
    "                count = 0\n",
    "            \n",
    "        return list_val\n",
    "    \n",
    "\n",
    "def main():\n",
    "    solution = Solution(\"ababcbacadefegdehijhklij\")\n",
    "    \n",
    "    print(solution.partitionLabels())\n",
    "    \n",
    "\n",
    "if __name__ == '__main__':\n",
    "    main()\n",
    "        "
   ]
  }
 ],
 "metadata": {
  "kernelspec": {
   "display_name": "Python 3",
   "language": "python",
   "name": "python3"
  },
  "language_info": {
   "codemirror_mode": {
    "name": "ipython",
    "version": 3
   },
   "file_extension": ".py",
   "mimetype": "text/x-python",
   "name": "python",
   "nbconvert_exporter": "python",
   "pygments_lexer": "ipython3",
   "version": "3.8.3"
  }
 },
 "nbformat": 4,
 "nbformat_minor": 4
}
