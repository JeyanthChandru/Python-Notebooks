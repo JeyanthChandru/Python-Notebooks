{
 "cells": [
  {
   "cell_type": "markdown",
   "metadata": {},
   "source": [
    "<!-- HackerEarth Challenge -->"
   ]
  },
  {
   "cell_type": "code",
   "execution_count": 3,
   "metadata": {},
   "outputs": [
    {
     "name": "stdout",
     "output_type": "stream",
     "text": [
      "8\n",
      "1 2 3 4 5 6 7 8\n",
      "3024\n"
     ]
    }
   ],
   "source": [
    "# Brute Force\n",
    "\n",
    "import math\n",
    "\n",
    "class FindingSum:\n",
    "\n",
    "    def __init__(self):\n",
    "        pass\n",
    "\n",
    "    def read_input(self):\n",
    "        self.N = int(input())\n",
    "\n",
    "    def read_array(self):\n",
    "        self.array_values = [int(x) for x in input().split()]\n",
    "    \n",
    "    def calculate_value(self):\n",
    "        sum = 0\n",
    "        for i in range(math.ceil(self.N / 2) + 1):\n",
    "            product = 1\n",
    "            for j in range(i, i + math.ceil(self.N / 2)):\n",
    "                product = product * self.array_values[j]\n",
    "\n",
    "            sum = sum + product\n",
    "\n",
    "        return sum % 1000000007\n",
    "\n",
    "\n",
    "def main():\n",
    "\n",
    "    findingSum = FindingSum()\n",
    "\n",
    "    findingSum.read_input()\n",
    "    findingSum.read_array()\n",
    "\n",
    "    print(findingSum.calculate_value())\n",
    "\n",
    "if __name__ == '__main__':\n",
    "    main()"
   ]
  },
  {
   "cell_type": "code",
   "execution_count": 8,
   "metadata": {},
   "outputs": [
    {
     "name": "stdout",
     "output_type": "stream",
     "text": [
      "20\n"
     ]
    }
   ],
   "source": [
    "# Recursive\n",
    "\n",
    "import math\n",
    "\n",
    "class FindingSum:\n",
    "\n",
    "    def __init__(self, N, array_values):\n",
    "        self.N = N\n",
    "        self.array_values = array_values\n",
    "\n",
    "    def read_input(self):\n",
    "        self.N = int(input())\n",
    "\n",
    "    def read_array(self):\n",
    "        self.array_values = [int(x) for x in input().split()]\n",
    "    \n",
    "    def calculate_value(self):\n",
    "        sum = 0\n",
    "        for i in range(math.ceil(self.N / 2) + 1):\n",
    "            product = 1\n",
    "            for j in range(i, i + math.ceil(self.N / 2)):\n",
    "                product = product * self.array_values[j]\n",
    "\n",
    "            sum = sum + product\n",
    "\n",
    "        return sum % 1000000007\n",
    "    \n",
    "    def multiply(self, temp_list):\n",
    "        if len(temp_list) == 1:\n",
    "#             print(\"Base Condition Multiply\", temp_list)\n",
    "            return temp_list[0]\n",
    "#         print(\"Else Condition Multiply\", temp_list)\n",
    "        return temp_list[0] * self.multiply(temp_list[1:])\n",
    "    \n",
    "    def calculate_recursive(self, start):\n",
    "#         print(\"Start:\" ,start)\n",
    "        if start == math.ceil(self.N / 2) + 1:\n",
    "            return 0\n",
    "#             print(\"Base Condition Recursive\", self.array_values[math.ceil(self.N / 2) + 1 : start + math.floor(self.N / 2)])\n",
    "#             return self.multiply(self.array_values[math.ceil(self.N / 2) + 1 : start + math.floor(self.N / 2)])\n",
    "        else:\n",
    "#             print(\"Else Condition Recursive\", self.array_values[start:start + math.floor(self.N / 2)])\n",
    "            return self.multiply(self.array_values[start:start + math.floor(self.N / 2)]) + self.calculate_recursive(start + 1)\n",
    "\n",
    "\n",
    "def main():\n",
    "\n",
    "    findingSum = FindingSum(4, [1, 2, 3, 4])\n",
    "\n",
    "#     findingSum.read_input()\n",
    "#     findingSum.read_array()\n",
    "\n",
    "#     print(findingSum.calculate_value())\n",
    "    print(findingSum.calculate_recursive(0))\n",
    "\n",
    "if __name__ == '__main__':\n",
    "    main()"
   ]
  },
  {
   "cell_type": "code",
   "execution_count": null,
   "metadata": {},
   "outputs": [],
   "source": []
  },
  {
   "cell_type": "code",
   "execution_count": null,
   "metadata": {},
   "outputs": [],
   "source": []
  }
 ],
 "metadata": {
  "kernelspec": {
   "display_name": "Python 3",
   "language": "python",
   "name": "python3"
  },
  "language_info": {
   "codemirror_mode": {
    "name": "ipython",
    "version": 3
   },
   "file_extension": ".py",
   "mimetype": "text/x-python",
   "name": "python",
   "nbconvert_exporter": "python",
   "pygments_lexer": "ipython3",
   "version": "3.8.3"
  }
 },
 "nbformat": 4,
 "nbformat_minor": 4
}
