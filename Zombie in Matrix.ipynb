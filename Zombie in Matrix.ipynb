{
 "cells": [
  {
   "cell_type": "markdown",
   "metadata": {},
   "source": [
    "<!-- [[2,1,1],[1,1,0],[0,1,1]] -->"
   ]
  },
  {
   "cell_type": "code",
   "execution_count": 1,
   "metadata": {},
   "outputs": [],
   "source": [
    "class Solution:\n",
    "    \n",
    "    # Constructor to define the inputs, and set to this instance\n",
    "    def __init__(self, grid, infectious_item, good_item):\n",
    "        self.grid = grid\n",
    "        self.infectious_item = infectious_item\n",
    "        self.good_item = good_item\n",
    "        \n",
    "    \n",
    "    # Get all the indices of the elements, Get All 2, Get All 1, etc.., from the grid\n",
    "    def has_elements(self, element): \n",
    "        return [(i, j) for i in range(self.grid_length[0]) for j in range(self.grid_length[1]) if self.grid[i][j] == element]\n",
    "    \n",
    "    \n",
    "    # Check if the i,j is within the limits\n",
    "    def is_valid(self, i, j):\n",
    "        return i >= 0 and i < self.grid_length[0] and j >= 0 and j < self.grid_length[1]\n",
    "    \n",
    "    \n",
    "    # Set the items to an infectious state, for the given location i,j\n",
    "    def spread_to_items(self, i, j):\n",
    "        \n",
    "        if (i, j) in self.good_places and self.is_valid(i, j):\n",
    "            self.grid[i][j] = 1\n",
    "            if (i, j) not in self.rotten_places:\n",
    "                self.temp_rotten_places.append((i, j))\n",
    "            self.good_places.remove((i, j))\n",
    "            \n",
    "            \n",
    "    # Get the possible range for spreading the infection from this rotten location\n",
    "    def spreading_range(self):\n",
    "        i, j = self.rotten_places[0]\n",
    "        temp_list = []\n",
    "        temp_list.append((i-1, j))\n",
    "        temp_list.append((i, j-1))\n",
    "        temp_list.append((i+1, j))\n",
    "        temp_list.append((i, j+1))\n",
    "        return temp_list\n",
    "        \n",
    "        \n",
    "    # starting method to calculate the spread, and to spread and to count the instances\n",
    "    def spread_infection(self):\n",
    "        self.grid_length = (len(self.grid), len(self.grid[0]))\n",
    "        self.good_places = self.has_elements(self.good_item)\n",
    "        self.rotten_places = self.has_elements(self.infectious_item)\n",
    "                \n",
    "        count = 0\n",
    "        self.temp_rotten_places = []\n",
    "        while len(self.good_places) != 0:\n",
    "            if len(self.rotten_places) == 0:\n",
    "                count = -1\n",
    "                break\n",
    "            for temp in self.spreading_range():\n",
    "                self.spread_to_items(temp[0], temp[1])\n",
    "                        \n",
    "            if len(self.rotten_places) == 1:\n",
    "                self.rotten_places.pop(0)\n",
    "                self.rotten_places.extend(self.temp_rotten_places)\n",
    "                self.temp_rotten_places = []\n",
    "                count = count + 1\n",
    "            elif len(self.good_places) == 0:\n",
    "                count = count + 1\n",
    "            else:\n",
    "                self.rotten_places.pop(0)\n",
    "        return count"
   ]
  },
  {
   "cell_type": "code",
   "execution_count": 2,
   "metadata": {},
   "outputs": [
    {
     "name": "stdout",
     "output_type": "stream",
     "text": [
      "1\n",
      "2\n"
     ]
    }
   ],
   "source": [
    "def main():\n",
    "    \n",
    "    #Orange Problem\n",
    "    grid = [[1],[2],[2]]\n",
    "    infectious_item = 2\n",
    "    good_item = 1\n",
    "    \n",
    "    solution_orange = Solution(grid, infectious_item, good_item)\n",
    "    print(solution_orange.spread_infection())\n",
    "    \n",
    "    #Zombie Problem\n",
    "    grid = [[0, 1, 1, 0, 1],[0, 1, 0, 1, 0],[0, 0, 0, 0, 1],[0, 1, 0, 0, 0]]\n",
    "    infectious_item = 1\n",
    "    good_item = 0\n",
    "    \n",
    "    solution_zombie = Solution(grid, infectious_item, good_item)\n",
    "    print(solution_zombie.spread_infection())\n",
    "    \n",
    "    \n",
    "if __name__=='__main__':\n",
    "    main()"
   ]
  }
 ],
 "metadata": {
  "kernelspec": {
   "display_name": "Python 3",
   "language": "python",
   "name": "python3"
  },
  "language_info": {
   "codemirror_mode": {
    "name": "ipython",
    "version": 3
   },
   "file_extension": ".py",
   "mimetype": "text/x-python",
   "name": "python",
   "nbconvert_exporter": "python",
   "pygments_lexer": "ipython3",
   "version": "3.8.3"
  }
 },
 "nbformat": 4,
 "nbformat_minor": 4
}
