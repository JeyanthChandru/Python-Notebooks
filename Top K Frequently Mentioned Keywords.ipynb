{
 "cells": [
  {
   "cell_type": "markdown",
   "metadata": {},
   "source": [
    "Question From\n",
    "\n",
    "https://leetcode.com/discuss/interview-question/542597/"
   ]
  },
  {
   "cell_type": "markdown",
   "metadata": {},
   "source": [
    "<!-- \n",
    "\n",
    "Example 1:\n",
    "\n",
    "Input:\n",
    "k = 2\n",
    "keywords = [\"anacell\", \"cetracular\", \"betacellular\"]\n",
    "reviews = [\n",
    "  \"Anacell provides the best services in the city\",\n",
    "  \"betacellular has awesome services\",\n",
    "  \"Best services provided by anacell, everyone should use anacell\",\n",
    "\n",
    "] \n",
    "\n",
    "Output:\n",
    "[\"anacell\", \"betacellular\"]\n",
    "\n",
    "Explanation:\n",
    "\"anacell\" is occuring in 3 different reviews and \"betacellular\" is only occuring in 1 review.\n",
    "\n",
    "-->"
   ]
  },
  {
   "cell_type": "markdown",
   "metadata": {},
   "source": [
    "<!-- \n",
    "Example 2:\n",
    "\n",
    "Input:\n",
    "k = 2\n",
    "keywords = [\"anacell\", \"betacellular\", \"cetracular\", \"deltacellular\", \"eurocell\"]\n",
    "reviews = [\n",
    "  \"I love anacell Best services; Best services provided by cetracular\",\n",
    "  \"betacellular has great services\",\n",
    "  \"deltacellular provides much better services than betacellular\",\n",
    "  \"cetracular is worse than anacell\",\n",
    "  \"Betacellular is better than deltacellular.\",\n",
    "]\n",
    "\n",
    "Output:\n",
    "[\"betacellular\", \"anacell\"]\n",
    "\n",
    "Explanation:\n",
    "\"betacellular\" is occuring in 3 different reviews. \"anacell\" and \"deltacellular\" are occuring in 2 reviews, but \"anacell\" is lexicographically smaller.\n",
    " -->"
   ]
  },
  {
   "cell_type": "code",
   "execution_count": 1,
   "metadata": {},
   "outputs": [
    {
     "name": "stdout",
     "output_type": "stream",
     "text": [
      "['anacell', 'betacellular']\n",
      "['betacellular', 'anacell']\n"
     ]
    }
   ],
   "source": [
    "import heapq\n",
    "import collections\n",
    "import string\n",
    "\n",
    "class ItemsCounter:\n",
    "    def __init__(self, reviews, keywords, k):\n",
    "        self.reviews = reviews\n",
    "        self.keywords = keywords\n",
    "        self.k = k\n",
    "        \n",
    "    def pre_process_words(self):\n",
    "        # Collect the Reviews List and Convert it into a string with lower-case\n",
    "        reviews_string = ' '.join(self.reviews).lower()\n",
    "        # Preprocess the words by removing the punctuation from the string\n",
    "        reviews_string = reviews_string.translate(str.maketrans('','',string.punctuation))\n",
    "        # Convert and send back as a list of string\n",
    "        return list(reviews_string.split(' '))\n",
    "        \n",
    "    def get_k_frequent_elements(self):\n",
    "        # Preprocess the reviews\n",
    "        self.reviews = self.pre_process_words()\n",
    "        \n",
    "        # Create a bag_of_words with the keywords\n",
    "        bag_of_words = [review for review in self.reviews if review in self.keywords]\n",
    "        \n",
    "        # Count the occurences of each word\n",
    "        count = collections.Counter(bag_of_words)\n",
    "        \n",
    "        # Create a heap structure by forming a tuple with the counter output\n",
    "        heap = [(-freq, word) for word, freq in count.items()]\n",
    "        \n",
    "        # heapify the tuple -> This is the crucial step, \n",
    "        # which converts the heap into a sorted object which is sorted by both string and count.\n",
    "        heapq.heapify(heap)\n",
    "        \n",
    "        # Pop the first element of the heap, which is sorted by lexical order and count\n",
    "        return [heapq.heappop(heap)[1] for _ in range(self.k)]\n",
    "    \n",
    "    \n",
    "def main():\n",
    "    \n",
    "    first_object = ItemsCounter(\n",
    "        [\n",
    "            \"Anacell provides the best services in the city\",\n",
    "            \"betacellular has awesome services\",\n",
    "            \"Best services provided by anacell, everyone should use anacell\",\n",
    "        ], \n",
    "        [\n",
    "            \"anacell\", \n",
    "            \"cetracular\", \n",
    "            \"betacellular\"\n",
    "        ], 2)\n",
    "    \n",
    "    print(first_object.get_k_frequent_elements())\n",
    "    \n",
    "    second_object = ItemsCounter(\n",
    "        [\n",
    "            \"I love anacell Best services; Best services provided by cetracular\",\n",
    "            \"betacellular has great services\",\n",
    "            \"deltacellular provides much better services than betacellular\",\n",
    "            \"cetracular is worse than anacell\",\n",
    "            \"Betacellular is better than deltacellular.\",\n",
    "        ],\n",
    "        [\n",
    "            \"anacell\", \n",
    "            \"cetracular\", \n",
    "            \"betacellular\"\n",
    "        ], 2)\n",
    "    \n",
    "    print(second_object.get_k_frequent_elements())\n",
    "        \n",
    "if __name__ == \"__main__\":\n",
    "        main()\n",
    "        \n"
   ]
  }
 ],
 "metadata": {
  "kernelspec": {
   "display_name": "Python 3",
   "language": "python",
   "name": "python3"
  },
  "language_info": {
   "codemirror_mode": {
    "name": "ipython",
    "version": 3
   },
   "file_extension": ".py",
   "mimetype": "text/x-python",
   "name": "python",
   "nbconvert_exporter": "python",
   "pygments_lexer": "ipython3",
   "version": "3.8.5"
  }
 },
 "nbformat": 4,
 "nbformat_minor": 4
}
