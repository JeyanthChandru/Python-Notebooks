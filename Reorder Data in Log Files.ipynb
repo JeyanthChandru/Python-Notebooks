{
 "cells": [
  {
   "cell_type": "markdown",
   "metadata": {},
   "source": [
    "<!-- Example 1:\n",
    "\n",
    "Input: logs = [\"dig1 8 1 5 1\",\"let1 art can\",\"dig2 3 6\",\"let2 own kit dig\",\"let3 art zero\"]\n",
    "Output: [\"let1 art can\",\"let3 art zero\",\"let2 own kit dig\",\"dig1 8 1 5 1\",\"dig2 3 6\"] -->"
   ]
  },
  {
   "cell_type": "code",
   "execution_count": 2,
   "metadata": {},
   "outputs": [
    {
     "name": "stdout",
     "output_type": "stream",
     "text": [
      "['let1 art can', 'let3 art zero', 'let2 own kit dig', 'dig1 8 1 5 1', 'dig2 3 6']\n"
     ]
    }
   ],
   "source": [
    "class Solution:\n",
    "    \n",
    "    # Initialize Logs Files\n",
    "    def __init__(self, logs):\n",
    "        self.logs = logs\n",
    "        \n",
    "    # Starting method for re-ordering the logs lines\n",
    "    def reorderLogFiles(self):\n",
    "        \n",
    "        # List for digits logs\n",
    "        digits_list = []\n",
    "        \n",
    "        # List for alphabet logs\n",
    "        alpha_list = []\n",
    "        \n",
    "        # Check if each of the second occurence is numeric in the identifier-value model\n",
    "        for log in self.logs:\n",
    "            value = log.split(' ', 1)[1]\n",
    "            \n",
    "            if value[0].isnumeric():\n",
    "                digits_list.append(log)\n",
    "            else:\n",
    "                alpha_list.append(log)\n",
    "        \n",
    "        # Finally, sort and append the list (since the order of digits-log does not change)\n",
    "        return sorted(alpha_list, key=lambda x: (x.split(' ', 1)[1],x.split(' ', 1)[0])) + digits_list\n",
    "    \n",
    "    \n",
    "def main():\n",
    "    logs = [\"dig1 8 1 5 1\",\"let1 art can\",\"dig2 3 6\",\"let2 own kit dig\",\"let3 art zero\"]\n",
    "    \n",
    "    solution = Solution(logs)\n",
    "    \n",
    "    print(solution.reorderLogFiles())\n",
    "\n",
    "if __name__ == '__main__':\n",
    "    main()"
   ]
  }
 ],
 "metadata": {
  "kernelspec": {
   "display_name": "Python 3",
   "language": "python",
   "name": "python3"
  },
  "language_info": {
   "codemirror_mode": {
    "name": "ipython",
    "version": 3
   },
   "file_extension": ".py",
   "mimetype": "text/x-python",
   "name": "python",
   "nbconvert_exporter": "python",
   "pygments_lexer": "ipython3",
   "version": "3.8.3"
  }
 },
 "nbformat": 4,
 "nbformat_minor": 4
}
