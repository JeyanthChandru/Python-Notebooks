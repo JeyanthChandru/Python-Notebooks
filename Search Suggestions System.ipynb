{
 "cells": [
  {
   "cell_type": "markdown",
   "metadata": {},
   "source": [
    "<!-- Example 1:\n",
    "\n",
    "Input: products = [\"mobile\",\"mouse\",\"moneypot\",\"monitor\",\"mousepad\"], searchWord = \"mouse\"\n",
    "Output: [\n",
    "[\"mobile\",\"moneypot\",\"monitor\"],\n",
    "[\"mobile\",\"moneypot\",\"monitor\"],\n",
    "[\"mouse\",\"mousepad\"],\n",
    "[\"mouse\",\"mousepad\"],\n",
    "[\"mouse\",\"mousepad\"]\n",
    "]\n",
    "Explanation: products sorted lexicographically = [\"mobile\",\"moneypot\",\"monitor\",\"mouse\",\"mousepad\"]\n",
    "After typing m and mo all products match and we show user [\"mobile\",\"moneypot\",\"monitor\"]\n",
    "After typing mou, mous and mouse the system suggests [\"mouse\",\"mousepad\"]\n",
    "Example 2:\n",
    "\n",
    "Input: products = [\"havana\"], searchWord = \"havana\"\n",
    "Output: [[\"havana\"],[\"havana\"],[\"havana\"],[\"havana\"],[\"havana\"],[\"havana\"]]\n",
    "Example 3:\n",
    "\n",
    "Input: products = [\"bags\",\"baggage\",\"banner\",\"box\",\"cloths\"], searchWord = \"bags\"\n",
    "Output: [[\"baggage\",\"bags\",\"banner\"],[\"baggage\",\"bags\",\"banner\"],[\"baggage\",\"bags\"],[\"bags\"]]\n",
    "Example 4:\n",
    "\n",
    "Input: products = [\"havana\"], searchWord = \"tatiana\"\n",
    "Output: [[],[],[],[],[],[],[]] -->"
   ]
  },
  {
   "cell_type": "code",
   "execution_count": 1,
   "metadata": {},
   "outputs": [
    {
     "name": "stdout",
     "output_type": "stream",
     "text": [
      "[['mobile', 'moneypot', 'monitor'], ['mobile', 'moneypot', 'monitor'], ['mouse', 'mousepad'], ['mouse', 'mousepad'], ['mouse', 'mousepad']]\n",
      "[['havana'], ['havana'], ['havana'], ['havana'], ['havana'], ['havana']]\n"
     ]
    }
   ],
   "source": [
    "class Solution:\n",
    "    \n",
    "    def __init__(self, limit):\n",
    "        self.limit = limit\n",
    "        \n",
    "        \n",
    "    def suggestedProducts(self, products, searchWord):\n",
    "        \n",
    "        # In place Sorting\n",
    "        products.sort()\n",
    "        \n",
    "        # Output Array\n",
    "        search_list = []\n",
    "        \n",
    "        for i in range(len(searchWord)):\n",
    "            products = [product for product in products if product[:i+1] == searchWord[:i+1]] \n",
    "            if len(products) > self.limit:\n",
    "                search_list.append(products[:self.limit])\n",
    "            else:\n",
    "                search_list.append(products)\n",
    "                \n",
    "        print (search_list)\n",
    "    \n",
    "def main():\n",
    "    solution = Solution(3)\n",
    "    \n",
    "    solution.suggestedProducts([\"mobile\",\"mouse\",\"moneypot\",\"monitor\",\"mousepad\"], \"mouse\")\n",
    "    solution.suggestedProducts([\"havana\"], \"havana\")\n",
    "    \n",
    "if __name__ == '__main__':\n",
    "    main()"
   ]
  }
 ],
 "metadata": {
  "kernelspec": {
   "display_name": "Python 3",
   "language": "python",
   "name": "python3"
  },
  "language_info": {
   "codemirror_mode": {
    "name": "ipython",
    "version": 3
   },
   "file_extension": ".py",
   "mimetype": "text/x-python",
   "name": "python",
   "nbconvert_exporter": "python",
   "pygments_lexer": "ipython3",
   "version": "3.8.3"
  }
 },
 "nbformat": 4,
 "nbformat_minor": 4
}
